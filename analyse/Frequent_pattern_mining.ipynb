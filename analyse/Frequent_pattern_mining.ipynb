{
  "nbformat": 4,
  "nbformat_minor": 0,
  "metadata": {
    "colab": {
      "provenance": []
    },
    "kernelspec": {
      "name": "python3",
      "display_name": "Python 3"
    },
    "language_info": {
      "name": "python"
    }
  },
  "cells": [
    {
      "cell_type": "code",
      "source": [
        "import numpy as np\n",
        "import pandas as pd\n",
        "import json\n",
        "import scipy\n",
        "import ast\n",
        "import networkx as nx\n",
        "import matplotlib.pyplot as plt\n",
        "from collections import Counter\n",
        "from mlxtend.frequent_patterns import apriori, association_rules\n",
        "from mlxtend.preprocessing import TransactionEncoder\n",
        "from ast import literal_eval"
      ],
      "metadata": {
        "id": "iGVY0xcXbvTf",
        "colab": {
          "base_uri": "https://localhost:8080/"
        },
        "outputId": "a385b9e3-32d2-4969-9aa6-51e3f79c05cc"
      },
      "execution_count": null,
      "outputs": [
        {
          "output_type": "stream",
          "name": "stderr",
          "text": [
            "/usr/local/lib/python3.10/dist-packages/ipykernel/ipkernel.py:283: DeprecationWarning: `should_run_async` will not call `transform_cell` automatically in the future. Please pass the result to `transformed_cell` argument and any exception that happen during thetransform in `preprocessing_exc_tuple` in IPython 7.17 and above.\n",
            "  and should_run_async(code)\n"
          ]
        }
      ]
    },
    {
      "cell_type": "code",
      "source": [
        "!pip install networkx\n"
      ],
      "metadata": {
        "colab": {
          "base_uri": "https://localhost:8080/"
        },
        "id": "iYw0wuOwhEZ0",
        "outputId": "45246027-bc66-4460-a978-1fe9843de396"
      },
      "execution_count": null,
      "outputs": [
        {
          "output_type": "stream",
          "name": "stderr",
          "text": [
            "/usr/local/lib/python3.10/dist-packages/ipykernel/ipkernel.py:283: DeprecationWarning: `should_run_async` will not call `transform_cell` automatically in the future. Please pass the result to `transformed_cell` argument and any exception that happen during thetransform in `preprocessing_exc_tuple` in IPython 7.17 and above.\n",
            "  and should_run_async(code)\n"
          ]
        },
        {
          "output_type": "stream",
          "name": "stdout",
          "text": [
            "Requirement already satisfied: networkx in /usr/local/lib/python3.10/dist-packages (3.4.2)\n"
          ]
        }
      ]
    },
    {
      "cell_type": "code",
      "source": [
        "import mlxtend\n",
        "print(mlxtend.__version__)"
      ],
      "metadata": {
        "colab": {
          "base_uri": "https://localhost:8080/"
        },
        "id": "U3YTtNBThG8e",
        "outputId": "4108b751-ff28-4e20-e328-209054c06058"
      },
      "execution_count": null,
      "outputs": [
        {
          "output_type": "stream",
          "name": "stdout",
          "text": [
            "0.23.2\n"
          ]
        },
        {
          "output_type": "stream",
          "name": "stderr",
          "text": [
            "/usr/local/lib/python3.10/dist-packages/ipykernel/ipkernel.py:283: DeprecationWarning: `should_run_async` will not call `transform_cell` automatically in the future. Please pass the result to `transformed_cell` argument and any exception that happen during thetransform in `preprocessing_exc_tuple` in IPython 7.17 and above.\n",
            "  and should_run_async(code)\n"
          ]
        }
      ]
    },
    {
      "cell_type": "code",
      "source": [
        "from google.colab import drive\n",
        "drive.mount('/content/drive')"
      ],
      "metadata": {
        "id": "TK6kEKvvZATQ",
        "colab": {
          "base_uri": "https://localhost:8080/"
        },
        "outputId": "9e0f6f96-a52d-4219-b12a-795d5be474e3"
      },
      "execution_count": null,
      "outputs": [
        {
          "output_type": "stream",
          "name": "stderr",
          "text": [
            "/usr/local/lib/python3.10/dist-packages/ipykernel/ipkernel.py:283: DeprecationWarning: `should_run_async` will not call `transform_cell` automatically in the future. Please pass the result to `transformed_cell` argument and any exception that happen during thetransform in `preprocessing_exc_tuple` in IPython 7.17 and above.\n",
            "  and should_run_async(code)\n"
          ]
        },
        {
          "output_type": "stream",
          "name": "stdout",
          "text": [
            "Drive already mounted at /content/drive; to attempt to forcibly remount, call drive.mount(\"/content/drive\", force_remount=True).\n"
          ]
        }
      ]
    },
    {
      "cell_type": "code",
      "execution_count": null,
      "metadata": {
        "colab": {
          "base_uri": "https://localhost:8080/"
        },
        "id": "rJCj6lbrbSCp",
        "outputId": "d2afb06f-eb9d-4870-b292-4d23dc682217"
      },
      "outputs": [
        {
          "output_type": "stream",
          "name": "stderr",
          "text": [
            "/usr/local/lib/python3.10/dist-packages/ipykernel/ipkernel.py:283: DeprecationWarning: `should_run_async` will not call `transform_cell` automatically in the future. Please pass the result to `transformed_cell` argument and any exception that happen during thetransform in `preprocessing_exc_tuple` in IPython 7.17 and above.\n",
            "  and should_run_async(code)\n",
            "<>:1: DeprecationWarning: invalid escape sequence '\\S'\n",
            "<>:1: DeprecationWarning: invalid escape sequence '\\S'\n",
            "<ipython-input-11-4166a5e6f880>:1: DeprecationWarning: invalid escape sequence '\\S'\n",
            "  df = pd.read_csv('/content/drive/MyDrive/data.csv', sep=',(?=\\S)', engine='python')\n"
          ]
        }
      ],
      "source": [
        "df = pd.read_csv('/content/drive/MyDrive/data.csv', sep=',(?=\\S)', engine='python')\n",
        "\n",
        "df['friends'] = [json.loads(x) for x in df['friends']]\n",
        "df['id'] = [int(str(x).replace('\"', '')) for x in df['id']]\n",
        "df['screenName'] = [x.replace('\"', '') for x in df['screenName']]\n",
        "\n",
        "df = df[df['friendsCount'] < 300]"
      ]
    },
    {
      "cell_type": "code",
      "source": [
        "df.head()"
      ],
      "metadata": {
        "colab": {
          "base_uri": "https://localhost:8080/",
          "height": 262
        },
        "id": "fGNB4tKmbk0l",
        "outputId": "f8da47b7-0f13-4f9a-a309-5c617897cb7c"
      },
      "execution_count": null,
      "outputs": [
        {
          "output_type": "stream",
          "name": "stderr",
          "text": [
            "/usr/local/lib/python3.10/dist-packages/ipykernel/ipkernel.py:283: DeprecationWarning: `should_run_async` will not call `transform_cell` automatically in the future. Please pass the result to `transformed_cell` argument and any exception that happen during thetransform in `preprocessing_exc_tuple` in IPython 7.17 and above.\n",
            "  and should_run_async(code)\n"
          ]
        },
        {
          "output_type": "execute_result",
          "data": {
            "text/plain": [
              "                   id       screenName                   tags  \\\n",
              "0          1969527638  LlngoMakeEmCum_  [ \"#nationaldogday\" ]   \n",
              "1            51878493     _notmichelle  [ \"#nationaldogday\" ]   \n",
              "2          1393409100        jesseayye          [ \"#narcos\" ]   \n",
              "4  710130422907207680    sarahdorat_16  [ \"#nationaldogday\" ]   \n",
              "5          3649469655  wanderIustregui   [ \"#veranomtv2016\" ]   \n",
              "\n",
              "                                              avatar  followersCount  \\\n",
              "0  \"http://pbs.twimg.com/profile_images/534286217...             319   \n",
              "1  \"http://pbs.twimg.com/profile_images/761977602...             275   \n",
              "2  \"http://pbs.twimg.com/profile_images/713282938...             120   \n",
              "4  \"http://pbs.twimg.com/profile_images/767180520...             128   \n",
              "5  \"http://pbs.twimg.com/profile_images/762400806...             479   \n",
              "\n",
              "   friendsCount  lang       lastSeen               tweetId  \\\n",
              "0           112  \"en\"  1472271687519  \"769310701580083200\"   \n",
              "1           115  \"en\"  1472270622663  \"769309490038439936\"   \n",
              "2           107  \"en\"  1472804144409  \"771622623583186944\"   \n",
              "4           218  \"en\"  1472271397356  \"769309769144283137\"   \n",
              "5           131  \"en\"  1472736978337  \"771340902308671488\"   \n",
              "\n",
              "                                             friends  \n",
              "0  [1969574754, 1969295556, 1969284056, 196961221...  \n",
              "1  [60789485, 2420931980, 2899776756, 127410795, ...  \n",
              "2  [86868062, 19697415, 2998836604, 456295047, 74...  \n",
              "4  [1571896093, 768938323612008448, 2548665930, 3...  \n",
              "5  [2401096388, 707864762, 4096348512, 7638558599...  "
            ],
            "text/html": [
              "\n",
              "  <div id=\"df-c629b933-ccdd-4fe0-ad70-f189947b24bf\" class=\"colab-df-container\">\n",
              "    <div>\n",
              "<style scoped>\n",
              "    .dataframe tbody tr th:only-of-type {\n",
              "        vertical-align: middle;\n",
              "    }\n",
              "\n",
              "    .dataframe tbody tr th {\n",
              "        vertical-align: top;\n",
              "    }\n",
              "\n",
              "    .dataframe thead th {\n",
              "        text-align: right;\n",
              "    }\n",
              "</style>\n",
              "<table border=\"1\" class=\"dataframe\">\n",
              "  <thead>\n",
              "    <tr style=\"text-align: right;\">\n",
              "      <th></th>\n",
              "      <th>id</th>\n",
              "      <th>screenName</th>\n",
              "      <th>tags</th>\n",
              "      <th>avatar</th>\n",
              "      <th>followersCount</th>\n",
              "      <th>friendsCount</th>\n",
              "      <th>lang</th>\n",
              "      <th>lastSeen</th>\n",
              "      <th>tweetId</th>\n",
              "      <th>friends</th>\n",
              "    </tr>\n",
              "  </thead>\n",
              "  <tbody>\n",
              "    <tr>\n",
              "      <th>0</th>\n",
              "      <td>1969527638</td>\n",
              "      <td>LlngoMakeEmCum_</td>\n",
              "      <td>[ \"#nationaldogday\" ]</td>\n",
              "      <td>\"http://pbs.twimg.com/profile_images/534286217...</td>\n",
              "      <td>319</td>\n",
              "      <td>112</td>\n",
              "      <td>\"en\"</td>\n",
              "      <td>1472271687519</td>\n",
              "      <td>\"769310701580083200\"</td>\n",
              "      <td>[1969574754, 1969295556, 1969284056, 196961221...</td>\n",
              "    </tr>\n",
              "    <tr>\n",
              "      <th>1</th>\n",
              "      <td>51878493</td>\n",
              "      <td>_notmichelle</td>\n",
              "      <td>[ \"#nationaldogday\" ]</td>\n",
              "      <td>\"http://pbs.twimg.com/profile_images/761977602...</td>\n",
              "      <td>275</td>\n",
              "      <td>115</td>\n",
              "      <td>\"en\"</td>\n",
              "      <td>1472270622663</td>\n",
              "      <td>\"769309490038439936\"</td>\n",
              "      <td>[60789485, 2420931980, 2899776756, 127410795, ...</td>\n",
              "    </tr>\n",
              "    <tr>\n",
              "      <th>2</th>\n",
              "      <td>1393409100</td>\n",
              "      <td>jesseayye</td>\n",
              "      <td>[ \"#narcos\" ]</td>\n",
              "      <td>\"http://pbs.twimg.com/profile_images/713282938...</td>\n",
              "      <td>120</td>\n",
              "      <td>107</td>\n",
              "      <td>\"en\"</td>\n",
              "      <td>1472804144409</td>\n",
              "      <td>\"771622623583186944\"</td>\n",
              "      <td>[86868062, 19697415, 2998836604, 456295047, 74...</td>\n",
              "    </tr>\n",
              "    <tr>\n",
              "      <th>4</th>\n",
              "      <td>710130422907207680</td>\n",
              "      <td>sarahdorat_16</td>\n",
              "      <td>[ \"#nationaldogday\" ]</td>\n",
              "      <td>\"http://pbs.twimg.com/profile_images/767180520...</td>\n",
              "      <td>128</td>\n",
              "      <td>218</td>\n",
              "      <td>\"en\"</td>\n",
              "      <td>1472271397356</td>\n",
              "      <td>\"769309769144283137\"</td>\n",
              "      <td>[1571896093, 768938323612008448, 2548665930, 3...</td>\n",
              "    </tr>\n",
              "    <tr>\n",
              "      <th>5</th>\n",
              "      <td>3649469655</td>\n",
              "      <td>wanderIustregui</td>\n",
              "      <td>[ \"#veranomtv2016\" ]</td>\n",
              "      <td>\"http://pbs.twimg.com/profile_images/762400806...</td>\n",
              "      <td>479</td>\n",
              "      <td>131</td>\n",
              "      <td>\"en\"</td>\n",
              "      <td>1472736978337</td>\n",
              "      <td>\"771340902308671488\"</td>\n",
              "      <td>[2401096388, 707864762, 4096348512, 7638558599...</td>\n",
              "    </tr>\n",
              "  </tbody>\n",
              "</table>\n",
              "</div>\n",
              "    <div class=\"colab-df-buttons\">\n",
              "\n",
              "  <div class=\"colab-df-container\">\n",
              "    <button class=\"colab-df-convert\" onclick=\"convertToInteractive('df-c629b933-ccdd-4fe0-ad70-f189947b24bf')\"\n",
              "            title=\"Convert this dataframe to an interactive table.\"\n",
              "            style=\"display:none;\">\n",
              "\n",
              "  <svg xmlns=\"http://www.w3.org/2000/svg\" height=\"24px\" viewBox=\"0 -960 960 960\">\n",
              "    <path d=\"M120-120v-720h720v720H120Zm60-500h600v-160H180v160Zm220 220h160v-160H400v160Zm0 220h160v-160H400v160ZM180-400h160v-160H180v160Zm440 0h160v-160H620v160ZM180-180h160v-160H180v160Zm440 0h160v-160H620v160Z\"/>\n",
              "  </svg>\n",
              "    </button>\n",
              "\n",
              "  <style>\n",
              "    .colab-df-container {\n",
              "      display:flex;\n",
              "      gap: 12px;\n",
              "    }\n",
              "\n",
              "    .colab-df-convert {\n",
              "      background-color: #E8F0FE;\n",
              "      border: none;\n",
              "      border-radius: 50%;\n",
              "      cursor: pointer;\n",
              "      display: none;\n",
              "      fill: #1967D2;\n",
              "      height: 32px;\n",
              "      padding: 0 0 0 0;\n",
              "      width: 32px;\n",
              "    }\n",
              "\n",
              "    .colab-df-convert:hover {\n",
              "      background-color: #E2EBFA;\n",
              "      box-shadow: 0px 1px 2px rgba(60, 64, 67, 0.3), 0px 1px 3px 1px rgba(60, 64, 67, 0.15);\n",
              "      fill: #174EA6;\n",
              "    }\n",
              "\n",
              "    .colab-df-buttons div {\n",
              "      margin-bottom: 4px;\n",
              "    }\n",
              "\n",
              "    [theme=dark] .colab-df-convert {\n",
              "      background-color: #3B4455;\n",
              "      fill: #D2E3FC;\n",
              "    }\n",
              "\n",
              "    [theme=dark] .colab-df-convert:hover {\n",
              "      background-color: #434B5C;\n",
              "      box-shadow: 0px 1px 3px 1px rgba(0, 0, 0, 0.15);\n",
              "      filter: drop-shadow(0px 1px 2px rgba(0, 0, 0, 0.3));\n",
              "      fill: #FFFFFF;\n",
              "    }\n",
              "  </style>\n",
              "\n",
              "    <script>\n",
              "      const buttonEl =\n",
              "        document.querySelector('#df-c629b933-ccdd-4fe0-ad70-f189947b24bf button.colab-df-convert');\n",
              "      buttonEl.style.display =\n",
              "        google.colab.kernel.accessAllowed ? 'block' : 'none';\n",
              "\n",
              "      async function convertToInteractive(key) {\n",
              "        const element = document.querySelector('#df-c629b933-ccdd-4fe0-ad70-f189947b24bf');\n",
              "        const dataTable =\n",
              "          await google.colab.kernel.invokeFunction('convertToInteractive',\n",
              "                                                    [key], {});\n",
              "        if (!dataTable) return;\n",
              "\n",
              "        const docLinkHtml = 'Like what you see? Visit the ' +\n",
              "          '<a target=\"_blank\" href=https://colab.research.google.com/notebooks/data_table.ipynb>data table notebook</a>'\n",
              "          + ' to learn more about interactive tables.';\n",
              "        element.innerHTML = '';\n",
              "        dataTable['output_type'] = 'display_data';\n",
              "        await google.colab.output.renderOutput(dataTable, element);\n",
              "        const docLink = document.createElement('div');\n",
              "        docLink.innerHTML = docLinkHtml;\n",
              "        element.appendChild(docLink);\n",
              "      }\n",
              "    </script>\n",
              "  </div>\n",
              "\n",
              "\n",
              "<div id=\"df-876ec0b3-bc0d-4420-b9ca-330698a2275d\">\n",
              "  <button class=\"colab-df-quickchart\" onclick=\"quickchart('df-876ec0b3-bc0d-4420-b9ca-330698a2275d')\"\n",
              "            title=\"Suggest charts\"\n",
              "            style=\"display:none;\">\n",
              "\n",
              "<svg xmlns=\"http://www.w3.org/2000/svg\" height=\"24px\"viewBox=\"0 0 24 24\"\n",
              "     width=\"24px\">\n",
              "    <g>\n",
              "        <path d=\"M19 3H5c-1.1 0-2 .9-2 2v14c0 1.1.9 2 2 2h14c1.1 0 2-.9 2-2V5c0-1.1-.9-2-2-2zM9 17H7v-7h2v7zm4 0h-2V7h2v10zm4 0h-2v-4h2v4z\"/>\n",
              "    </g>\n",
              "</svg>\n",
              "  </button>\n",
              "\n",
              "<style>\n",
              "  .colab-df-quickchart {\n",
              "      --bg-color: #E8F0FE;\n",
              "      --fill-color: #1967D2;\n",
              "      --hover-bg-color: #E2EBFA;\n",
              "      --hover-fill-color: #174EA6;\n",
              "      --disabled-fill-color: #AAA;\n",
              "      --disabled-bg-color: #DDD;\n",
              "  }\n",
              "\n",
              "  [theme=dark] .colab-df-quickchart {\n",
              "      --bg-color: #3B4455;\n",
              "      --fill-color: #D2E3FC;\n",
              "      --hover-bg-color: #434B5C;\n",
              "      --hover-fill-color: #FFFFFF;\n",
              "      --disabled-bg-color: #3B4455;\n",
              "      --disabled-fill-color: #666;\n",
              "  }\n",
              "\n",
              "  .colab-df-quickchart {\n",
              "    background-color: var(--bg-color);\n",
              "    border: none;\n",
              "    border-radius: 50%;\n",
              "    cursor: pointer;\n",
              "    display: none;\n",
              "    fill: var(--fill-color);\n",
              "    height: 32px;\n",
              "    padding: 0;\n",
              "    width: 32px;\n",
              "  }\n",
              "\n",
              "  .colab-df-quickchart:hover {\n",
              "    background-color: var(--hover-bg-color);\n",
              "    box-shadow: 0 1px 2px rgba(60, 64, 67, 0.3), 0 1px 3px 1px rgba(60, 64, 67, 0.15);\n",
              "    fill: var(--button-hover-fill-color);\n",
              "  }\n",
              "\n",
              "  .colab-df-quickchart-complete:disabled,\n",
              "  .colab-df-quickchart-complete:disabled:hover {\n",
              "    background-color: var(--disabled-bg-color);\n",
              "    fill: var(--disabled-fill-color);\n",
              "    box-shadow: none;\n",
              "  }\n",
              "\n",
              "  .colab-df-spinner {\n",
              "    border: 2px solid var(--fill-color);\n",
              "    border-color: transparent;\n",
              "    border-bottom-color: var(--fill-color);\n",
              "    animation:\n",
              "      spin 1s steps(1) infinite;\n",
              "  }\n",
              "\n",
              "  @keyframes spin {\n",
              "    0% {\n",
              "      border-color: transparent;\n",
              "      border-bottom-color: var(--fill-color);\n",
              "      border-left-color: var(--fill-color);\n",
              "    }\n",
              "    20% {\n",
              "      border-color: transparent;\n",
              "      border-left-color: var(--fill-color);\n",
              "      border-top-color: var(--fill-color);\n",
              "    }\n",
              "    30% {\n",
              "      border-color: transparent;\n",
              "      border-left-color: var(--fill-color);\n",
              "      border-top-color: var(--fill-color);\n",
              "      border-right-color: var(--fill-color);\n",
              "    }\n",
              "    40% {\n",
              "      border-color: transparent;\n",
              "      border-right-color: var(--fill-color);\n",
              "      border-top-color: var(--fill-color);\n",
              "    }\n",
              "    60% {\n",
              "      border-color: transparent;\n",
              "      border-right-color: var(--fill-color);\n",
              "    }\n",
              "    80% {\n",
              "      border-color: transparent;\n",
              "      border-right-color: var(--fill-color);\n",
              "      border-bottom-color: var(--fill-color);\n",
              "    }\n",
              "    90% {\n",
              "      border-color: transparent;\n",
              "      border-bottom-color: var(--fill-color);\n",
              "    }\n",
              "  }\n",
              "</style>\n",
              "\n",
              "  <script>\n",
              "    async function quickchart(key) {\n",
              "      const quickchartButtonEl =\n",
              "        document.querySelector('#' + key + ' button');\n",
              "      quickchartButtonEl.disabled = true;  // To prevent multiple clicks.\n",
              "      quickchartButtonEl.classList.add('colab-df-spinner');\n",
              "      try {\n",
              "        const charts = await google.colab.kernel.invokeFunction(\n",
              "            'suggestCharts', [key], {});\n",
              "      } catch (error) {\n",
              "        console.error('Error during call to suggestCharts:', error);\n",
              "      }\n",
              "      quickchartButtonEl.classList.remove('colab-df-spinner');\n",
              "      quickchartButtonEl.classList.add('colab-df-quickchart-complete');\n",
              "    }\n",
              "    (() => {\n",
              "      let quickchartButtonEl =\n",
              "        document.querySelector('#df-876ec0b3-bc0d-4420-b9ca-330698a2275d button');\n",
              "      quickchartButtonEl.style.display =\n",
              "        google.colab.kernel.accessAllowed ? 'block' : 'none';\n",
              "    })();\n",
              "  </script>\n",
              "</div>\n",
              "\n",
              "    </div>\n",
              "  </div>\n"
            ],
            "application/vnd.google.colaboratory.intrinsic+json": {
              "type": "dataframe",
              "variable_name": "df",
              "summary": "{\n  \"name\": \"df\",\n  \"rows\": 13164,\n  \"fields\": [\n    {\n      \"column\": \"id\",\n      \"properties\": {\n        \"dtype\": \"number\",\n        \"std\": 194841657903768896,\n        \"min\": 794355,\n        \"max\": 769366880616407041,\n        \"num_unique_values\": 13164,\n        \"samples\": [\n          69968782,\n          3374776198,\n          3551636903\n        ],\n        \"semantic_type\": \"\",\n        \"description\": \"\"\n      }\n    },\n    {\n      \"column\": \"screenName\",\n      \"properties\": {\n        \"dtype\": \"string\",\n        \"num_unique_values\": 13164,\n        \"samples\": [\n          \"rebekahmarie_\",\n          \"plaidaleckimish\",\n          \"notcomedy\"\n        ],\n        \"semantic_type\": \"\",\n        \"description\": \"\"\n      }\n    },\n    {\n      \"column\": \"tags\",\n      \"properties\": {\n        \"dtype\": \"category\",\n        \"num_unique_values\": 181,\n        \"samples\": [\n          \"[ \\\"halsey\\\" ]\",\n          \"[ \\\"#messi\\\" ]\",\n          \"[ \\\"#respecttylerjoseph\\\", \\\"#getwellsoonjackson\\\" ]\"\n        ],\n        \"semantic_type\": \"\",\n        \"description\": \"\"\n      }\n    },\n    {\n      \"column\": \"avatar\",\n      \"properties\": {\n        \"dtype\": \"string\",\n        \"num_unique_values\": 13155,\n        \"samples\": [\n          \"\\\"http://pbs.twimg.com/profile_images/745033609870860289/rfgGYbq3_normal.jpg\\\"\",\n          \"\\\"http://pbs.twimg.com/profile_images/766558501455790084/nPmrRmNA_normal.jpg\\\"\",\n          \"\\\"http://pbs.twimg.com/profile_images/766051393853657089/CxoHYWOj_normal.jpg\\\"\"\n        ],\n        \"semantic_type\": \"\",\n        \"description\": \"\"\n      }\n    },\n    {\n      \"column\": \"followersCount\",\n      \"properties\": {\n        \"dtype\": \"number\",\n        \"std\": 37028,\n        \"min\": 101,\n        \"max\": 2544982,\n        \"num_unique_values\": 1745,\n        \"samples\": [\n          1622,\n          451,\n          863\n        ],\n        \"semantic_type\": \"\",\n        \"description\": \"\"\n      }\n    },\n    {\n      \"column\": \"friendsCount\",\n      \"properties\": {\n        \"dtype\": \"number\",\n        \"std\": 56,\n        \"min\": 101,\n        \"max\": 299,\n        \"num_unique_values\": 199,\n        \"samples\": [\n          196,\n          152,\n          150\n        ],\n        \"semantic_type\": \"\",\n        \"description\": \"\"\n      }\n    },\n    {\n      \"column\": \"lang\",\n      \"properties\": {\n        \"dtype\": \"category\",\n        \"num_unique_values\": 1,\n        \"samples\": [\n          \"\\\"en\\\"\"\n        ],\n        \"semantic_type\": \"\",\n        \"description\": \"\"\n      }\n    },\n    {\n      \"column\": \"lastSeen\",\n      \"properties\": {\n        \"dtype\": \"number\",\n        \"std\": 102375442,\n        \"min\": 1472248808554,\n        \"max\": 1472807598334,\n        \"num_unique_values\": 13164,\n        \"samples\": [\n          1472264838677\n        ],\n        \"semantic_type\": \"\",\n        \"description\": \"\"\n      }\n    },\n    {\n      \"column\": \"tweetId\",\n      \"properties\": {\n        \"dtype\": \"string\",\n        \"num_unique_values\": 13164,\n        \"samples\": [\n          \"\\\"769303889426255873\\\"\"\n        ],\n        \"semantic_type\": \"\",\n        \"description\": \"\"\n      }\n    },\n    {\n      \"column\": \"friends\",\n      \"properties\": {\n        \"dtype\": \"object\",\n        \"semantic_type\": \"\",\n        \"description\": \"\"\n      }\n    }\n  ]\n}"
            }
          },
          "metadata": {},
          "execution_count": 7
        }
      ]
    },
    {
      "cell_type": "code",
      "source": [
        "df.info()"
      ],
      "metadata": {
        "colab": {
          "base_uri": "https://localhost:8080/"
        },
        "id": "dWPE7wVnd41y",
        "outputId": "1bf65b10-3d80-48bf-ec0b-f1ec6b9efa6e"
      },
      "execution_count": null,
      "outputs": [
        {
          "output_type": "stream",
          "name": "stdout",
          "text": [
            "<class 'pandas.core.frame.DataFrame'>\n",
            "Index: 13164 entries, 0 to 39996\n",
            "Data columns (total 10 columns):\n",
            " #   Column          Non-Null Count  Dtype \n",
            "---  ------          --------------  ----- \n",
            " 0   id              13164 non-null  int64 \n",
            " 1   screenName      13164 non-null  object\n",
            " 2   tags            13164 non-null  object\n",
            " 3   avatar          13164 non-null  object\n",
            " 4   followersCount  13164 non-null  int64 \n",
            " 5   friendsCount    13164 non-null  int64 \n",
            " 6   lang            13164 non-null  object\n",
            " 7   lastSeen        13164 non-null  int64 \n",
            " 8   tweetId         13164 non-null  object\n",
            " 9   friends         13164 non-null  object\n",
            "dtypes: int64(4), object(6)\n",
            "memory usage: 1.1+ MB\n"
          ]
        },
        {
          "output_type": "stream",
          "name": "stderr",
          "text": [
            "/usr/local/lib/python3.10/dist-packages/ipykernel/ipkernel.py:283: DeprecationWarning: `should_run_async` will not call `transform_cell` automatically in the future. Please pass the result to `transformed_cell` argument and any exception that happen during thetransform in `preprocessing_exc_tuple` in IPython 7.17 and above.\n",
            "  and should_run_async(code)\n"
          ]
        }
      ]
    },
    {
      "cell_type": "code",
      "source": [
        "# utiliser uqe 10000 lignes\n",
        "df_temp = df.head(10000)\n",
        "df_temp['tags'] = df_temp['tags'].apply(lambda x: literal_eval(x) if isinstance(x, str) else [])\n",
        "\n",
        "te = TransactionEncoder()\n",
        "te_ary = te.fit(df_temp['tags']).transform(df_temp['tags'])\n",
        "df_trans = pd.DataFrame(te_ary, columns=te.columns_)\n",
        "\n",
        "frequent_itemsets = apriori(df_trans, min_support=0.01, use_colnames=True)\n",
        "num_itemsets = 10\n",
        "limited_itemsets = frequent_itemsets.nlargest(num_itemsets, 'support')\n",
        "print(\"Itemsets sélectionnés :\\n\", limited_itemsets)\n",
        "rules = association_rules(limited_itemsets, metric=\"lift\", min_threshold=0.5,num_itemsets=3)\n",
        "\n",
        "print(\"\\nRègles d'association :\\n\", rules)"
      ],
      "metadata": {
        "colab": {
          "base_uri": "https://localhost:8080/"
        },
        "id": "0KzS_AcucCNI",
        "outputId": "98ac6d35-09f3-455c-98db-dc73699d2437"
      },
      "execution_count": null,
      "outputs": [
        {
          "output_type": "stream",
          "name": "stdout",
          "text": [
            "Itemsets sélectionnés :\n",
            "    support               itemsets\n",
            "2   0.7531      (#nationaldogday)\n",
            "3   0.1551  (#respecttylerjoseph)\n",
            "0   0.0133         (#gloryoutnow)\n",
            "1   0.0101              (#narcos)\n",
            "\n",
            "Règles d'association :\n",
            " Empty DataFrame\n",
            "Columns: [antecedents, consequents, antecedent support, consequent support, support, confidence, lift, representativity, leverage, conviction, zhangs_metric, jaccard, certainty, kulczynski]\n",
            "Index: []\n"
          ]
        },
        {
          "output_type": "stream",
          "name": "stderr",
          "text": [
            "/usr/local/lib/python3.10/dist-packages/ipykernel/ipkernel.py:283: DeprecationWarning: `should_run_async` will not call `transform_cell` automatically in the future. Please pass the result to `transformed_cell` argument and any exception that happen during thetransform in `preprocessing_exc_tuple` in IPython 7.17 and above.\n",
            "  and should_run_async(code)\n",
            "<ipython-input-13-9c966e6e5b32>:5: SettingWithCopyWarning: \n",
            "A value is trying to be set on a copy of a slice from a DataFrame.\n",
            "Try using .loc[row_indexer,col_indexer] = value instead\n",
            "\n",
            "See the caveats in the documentation: https://pandas.pydata.org/pandas-docs/stable/user_guide/indexing.html#returning-a-view-versus-a-copy\n",
            "  df_temp['tags'] = df_temp['tags'].apply(lambda x: literal_eval(x) if isinstance(x, str) else [])\n"
          ]
        }
      ]
    },
    {
      "cell_type": "markdown",
      "source": [
        "Faible taux de covriance entre les tags donc impossibiliter de crée des règles"
      ],
      "metadata": {
        "id": "T8d40Dm4jrS2"
      }
    },
    {
      "cell_type": "code",
      "source": [
        "print(df['friends'].head())\n",
        "print(df['friends'].isnull().sum())"
      ],
      "metadata": {
        "colab": {
          "base_uri": "https://localhost:8080/"
        },
        "id": "SBqE_jJzlSah",
        "outputId": "b449f237-decd-46a8-d458-d83dddde1cd6"
      },
      "execution_count": null,
      "outputs": [
        {
          "output_type": "stream",
          "name": "stdout",
          "text": [
            "0    [1969574754, 1969295556, 1969284056, 196961221...\n",
            "1    [60789485, 2420931980, 2899776756, 127410795, ...\n",
            "2    [86868062, 19697415, 2998836604, 456295047, 74...\n",
            "4    [1571896093, 768938323612008448, 2548665930, 3...\n",
            "5    [2401096388, 707864762, 4096348512, 7638558599...\n",
            "Name: friends, dtype: object\n",
            "0\n"
          ]
        },
        {
          "output_type": "stream",
          "name": "stderr",
          "text": [
            "/usr/local/lib/python3.10/dist-packages/ipykernel/ipkernel.py:283: DeprecationWarning: `should_run_async` will not call `transform_cell` automatically in the future. Please pass the result to `transformed_cell` argument and any exception that happen during thetransform in `preprocessing_exc_tuple` in IPython 7.17 and above.\n",
            "  and should_run_async(code)\n"
          ]
        }
      ]
    },
    {
      "cell_type": "code",
      "source": [
        "df_temp = df.head(5000)\n",
        "def convert_to_list(friends_str):\n",
        "    try:\n",
        "        return ast.literal_eval(friends_str) if isinstance(friends_str, str) else friends_str\n",
        "    except (ValueError, SyntaxError):\n",
        "        return []\n",
        "\n",
        "df['friends'] = df['friends'].apply(lambda x: convert_to_list(x))\n",
        "\n",
        "all_friends = [friend for sublist in df_temp['friends'] for friend in sublist]\n",
        "friend_counts = Counter(all_friends)\n",
        "frequent_friends = {friend for friend, count in friend_counts.items() if count >= 2}\n",
        "\n",
        "df_temp['filtered_friends'] = df_temp['friends'].apply(lambda x: [friend for friend in x if friend in frequent_friends])\n",
        "te = TransactionEncoder()\n",
        "te_ary = te.fit_transform(df_temp['filtered_friends'])\n",
        "df_trans = pd.DataFrame(te_ary, columns=te.columns_).astype('uint8')\n",
        "frequent_itemsets = apriori(df_trans, min_support=0.05, use_colnames=True)\n",
        "num_itemsets = 10\n",
        "limited_itemsets = frequent_itemsets.nlargest(num_itemsets, 'support')\n",
        "print(\"Itemsets sélectionnés :\\n\", limited_itemsets)\n",
        "\n",
        "rules = association_rules(limited_itemsets, metric=\"lift\", min_threshold=0.5, num_itemsets=10)\n",
        "rules = rules.head(20)\n",
        "print(\"\\nRègles d'association :\\n\", rules)"
      ],
      "metadata": {
        "colab": {
          "base_uri": "https://localhost:8080/"
        },
        "id": "SLaMj-vnEunq",
        "outputId": "c482c8b1-982f-4e97-cb18-c8a0dc0870ea"
      },
      "execution_count": null,
      "outputs": [
        {
          "output_type": "stream",
          "name": "stderr",
          "text": [
            "/usr/local/lib/python3.10/dist-packages/ipykernel/ipkernel.py:283: DeprecationWarning: `should_run_async` will not call `transform_cell` automatically in the future. Please pass the result to `transformed_cell` argument and any exception that happen during thetransform in `preprocessing_exc_tuple` in IPython 7.17 and above.\n",
            "  and should_run_async(code)\n",
            "<ipython-input-22-d758d1fdd1ce>:17: SettingWithCopyWarning: \n",
            "A value is trying to be set on a copy of a slice from a DataFrame.\n",
            "Try using .loc[row_indexer,col_indexer] = value instead\n",
            "\n",
            "See the caveats in the documentation: https://pandas.pydata.org/pandas-docs/stable/user_guide/indexing.html#returning-a-view-versus-a-copy\n",
            "  df_temp['filtered_friends'] = df_temp['friends'].apply(lambda x: [friend for friend in x if friend in frequent_friends])\n",
            "/usr/local/lib/python3.10/dist-packages/mlxtend/frequent_patterns/fpcommon.py:161: DeprecationWarning: DataFrames with non-bool types result in worse computationalperformance and their support might be discontinued in the future.Please use a DataFrame with bool type\n",
            "  warnings.warn(\n"
          ]
        },
        {
          "output_type": "stream",
          "name": "stdout",
          "text": [
            "Itemsets sélectionnés :\n",
            "      support                         itemsets\n",
            "25    0.1428                      (221412285)\n",
            "14    0.1354                       (16712746)\n",
            "51    0.1344                       (59325073)\n",
            "80    0.1328            (221412285, 16712746)\n",
            "97    0.1250            (221412285, 59325073)\n",
            "32    0.1228                      (266336410)\n",
            "85    0.1212             (16712746, 59325073)\n",
            "146   0.1206  (221412285, 16712746, 59325073)\n",
            "9     0.1194                       (15846407)\n",
            "17    0.1112                       (17919972)\n",
            "\n",
            "Règles d'association :\n",
            "               antecedents            consequents  antecedent support  \\\n",
            "0             (221412285)             (16712746)              0.1428   \n",
            "1              (16712746)            (221412285)              0.1354   \n",
            "2             (221412285)             (59325073)              0.1428   \n",
            "3              (59325073)            (221412285)              0.1344   \n",
            "4              (16712746)             (59325073)              0.1354   \n",
            "5              (59325073)             (16712746)              0.1344   \n",
            "6   (221412285, 16712746)             (59325073)              0.1328   \n",
            "7   (221412285, 59325073)             (16712746)              0.1250   \n",
            "8    (16712746, 59325073)            (221412285)              0.1212   \n",
            "9             (221412285)   (16712746, 59325073)              0.1428   \n",
            "10             (16712746)  (221412285, 59325073)              0.1354   \n",
            "11             (59325073)  (221412285, 16712746)              0.1344   \n",
            "\n",
            "    consequent support  support  confidence      lift  representativity  \\\n",
            "0               0.1354   0.1328    0.929972  6.868331               1.0   \n",
            "1               0.1428   0.1328    0.980798  6.868331               1.0   \n",
            "2               0.1344   0.1250    0.875350  6.513022               1.0   \n",
            "3               0.1428   0.1250    0.930060  6.513022               1.0   \n",
            "4               0.1344   0.1212    0.895126  6.660160               1.0   \n",
            "5               0.1354   0.1212    0.901786  6.660160               1.0   \n",
            "6               0.1344   0.1206    0.908133  6.756938               1.0   \n",
            "7               0.1354   0.1206    0.964800  7.125554               1.0   \n",
            "8               0.1428   0.1206    0.995050  6.968134               1.0   \n",
            "9               0.1212   0.1206    0.844538  6.968134               1.0   \n",
            "10              0.1250   0.1206    0.890694  7.125554               1.0   \n",
            "11              0.1328   0.1206    0.897321  6.756938               1.0   \n",
            "\n",
            "    leverage  conviction  zhangs_metric   jaccard  certainty  kulczynski  \n",
            "0   0.113465   12.346488       0.996738  0.913343   0.919005    0.955385  \n",
            "1   0.113465   44.640338       0.988208  0.913343   0.977599    0.955385  \n",
            "2   0.105808    6.944252       0.987473  0.821288   0.855996    0.902705  \n",
            "3   0.105808   12.256136       0.977890  0.821288   0.918408    0.902705  \n",
            "4   0.103002    8.253679       0.982944  0.815612   0.878842    0.898456  \n",
            "5   0.103002    8.803200       0.981809  0.815612   0.886405    0.898456  \n",
            "6   0.102752    9.422269       0.982477  0.822647   0.893868    0.902727  \n",
            "7   0.103675   24.562500       0.982469  0.862661   0.959288    0.927747  \n",
            "8   0.103293  173.154400       0.974613  0.841004   0.994225    0.919794  \n",
            "9   0.103293    5.652822       0.999171  0.841004   0.823097    0.919794  \n",
            "10  0.103675    8.005068       0.994286  0.862661   0.875079    0.927747  \n",
            "11  0.102752    8.445774       0.984293  0.822647   0.881598    0.902727  \n"
          ]
        }
      ]
    },
    {
      "cell_type": "markdown",
      "source": [
        "# Analyse des Résultats : Itemsets Fréquents et Règles d'Association\n",
        "\n",
        "## 1. **Itemsets Sélectionnés**\n",
        "\n",
        "Les itemsets fréquents montrent des groupes d'amis (identifiants) apparaissant fréquemment ensemble dans les listes d'amis. Voici quelques observations :\n",
        "\n",
        "### Itemsets Simples (Un seul identifiant)\n",
        "- **`221412285`** : Support = **14,28 %**  \n",
        "  Cet utilisateur apparaît dans environ **14,28 %** des transactions.\n",
        "- **`16712746`** : Support = **13,54 %**\n",
        "- **`59325073`** : Support = **13,44 %**\n",
        "\n",
        "### Itemsets Composés (Paires ou triplets)\n",
        "- **`(221412285, 16712746)`** : Support = **13,28 %**  \n",
        "  Ces deux amis apparaissent ensemble dans **13,28 %** des transactions.\n",
        "- **`(221412285, 59325073)`** : Support = **12,50 %**\n",
        "- **`(221412285, 16712746, 59325073)`** : Support = **12,06 %**  \n",
        "  Indique que ces trois amis sont souvent connectés dans un même groupe.\n",
        "\n",
        "---\n",
        "\n",
        "## 2. **Règles d'Association**\n",
        "\n",
        "### a) **Règle : `221412285 → 16712746`**\n",
        "- **Confiance** : **92,99 %**  \n",
        "  Lorsque l'utilisateur `221412285` est présent, `16712746` l'est aussi dans **92,99 %** des cas.\n",
        "- **Lift** : **6,87**  \n",
        "  La présence de `221412285` augmente la probabilité de voir `16712746` par un facteur de **6,87** par rapport à une association aléatoire.\n",
        "- **Conviction** : **12,34**  \n",
        "  Montre une forte fiabilité de la règle.\n",
        "\n",
        "### b) **Règle : `16712746 → 59325073`**\n",
        "- **Confiance** : **89,51 %**  \n",
        "  Si `16712746` est dans une transaction, `59325073` y sera aussi dans **89,51 %** des cas.\n",
        "- **Lift** : **6,66**  \n",
        "  Montre une forte dépendance entre ces deux amis.\n",
        "\n",
        "### c) **Règle : `(16712746, 59325073) → 221412285`**\n",
        "- **Confiance** : **99,50 %**  \n",
        "  Si les deux amis `16712746` et `59325073` sont présents, il y a presque une certitude (**99,5 %**) que `221412285` soit aussi dans la transaction.\n",
        "- **Lift** : **6,97**  \n",
        "  Indique une forte corrélation entre ces amis.\n",
        "- **Conviction** : **173,15**  \n",
        "  Cette règle est extrêmement fiable.\n",
        "\n",
        "---\n",
        "\n",
        "## 3. **Interprétation Globale**\n",
        "- **Réseau social dense** : Les identifiants sélectionnés appartiennent probablement à un groupe d'amis très connectés, formant des sous-communautés.\n",
        "- **Relations fortement associées** : La **confiance élevée** et les **lifts supérieurs à 6** montrent que ces amis apparaissent presque toujours ensemble.\n",
        "- **Règles robustes** : Les métriques comme **conviction** et **zhang's metric** confirment la fiabilité des relations mises en évidence.\n",
        "\n",
        "---\n",
        "\n",
        "## 4. **Améliorations Possibles**\n",
        "- **Segmenter par groupe** : Identifier si ces amis appartiennent à une communauté spécifique pourrait fournir des insights plus profonds.\n",
        "- **Baisser le support minimal** : Cela pourrait permettre de découvrir des sous-groupes d'amis moins fréquents mais potentiellement intéressants.\n",
        "\n"
      ],
      "metadata": {
        "id": "l-Mj-4Y-GiE_"
      }
    }
  ]
}